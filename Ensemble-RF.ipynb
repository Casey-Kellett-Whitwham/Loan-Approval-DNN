{
 "cells": [
  {
   "cell_type": "code",
   "execution_count": 1,
   "metadata": {},
   "outputs": [],
   "source": [
    "#\n",
    "# Evan J. Marinov\n",
    "#\n",
    "\n",
    "# 1st time\n",
    "# without grid search\n",
    "\n",
    "# Random Forest Test Accuracy: 0.918785890073831\n",
    "#\n",
    "# with grid search\n",
    "\n",
    "# Random Forest Test Accuracy: 0.9251435602953241\n",
    "\n",
    "\n"
   ]
  },
  {
   "cell_type": "code",
   "execution_count": 2,
   "metadata": {},
   "outputs": [
    {
     "data": {
      "text/plain": [
       "<module 'dataprep' from 'c:\\\\Users\\\\casey\\\\OneDrive\\\\Project 1 - Casey & Evan\\\\Project 2\\\\dataprep.py'>"
      ]
     },
     "execution_count": 2,
     "metadata": {},
     "output_type": "execute_result"
    }
   ],
   "source": [
    "import importlib\n",
    "import dataprep as dp\n",
    "importlib.reload(dp)"
   ]
  },
  {
   "cell_type": "code",
   "execution_count": 3,
   "metadata": {},
   "outputs": [],
   "source": [
    "from sklearn.ensemble import BaggingClassifier, RandomForestClassifier\n",
    "from sklearn.tree import DecisionTreeClassifier\n",
    "from sklearn.metrics import classification_report, accuracy_score\n",
    "from sklearn.model_selection import GridSearchCV\n"
   ]
  },
  {
   "cell_type": "code",
   "execution_count": 4,
   "metadata": {},
   "outputs": [
    {
     "name": "stdout",
     "output_type": "stream",
     "text": [
      "(24384, 12)\n"
     ]
    },
    {
     "name": "stderr",
     "output_type": "stream",
     "text": [
      "c:\\Users\\casey\\AppData\\Local\\Programs\\Python\\Python39\\lib\\site-packages\\joblib\\externals\\loky\\backend\\context.py:136: UserWarning: Could not find the number of physical cores for the following reason:\n",
      "found 0 physical cores < 1\n",
      "Returning the number of logical cores instead. You can silence this warning by setting LOKY_MAX_CPU_COUNT to the number of cores you want to use.\n",
      "  warnings.warn(\n",
      "  File \"c:\\Users\\casey\\AppData\\Local\\Programs\\Python\\Python39\\lib\\site-packages\\joblib\\externals\\loky\\backend\\context.py\", line 282, in _count_physical_cores\n",
      "    raise ValueError(f\"found {cpu_count_physical} physical cores < 1\")\n"
     ]
    },
    {
     "name": "stdout",
     "output_type": "stream",
     "text": [
      "Train X,y shape:  (14609, 84) (14609,)\n",
      "Test X,y shape:  (4876, 84) (4876,)\n",
      "Dev X,y shape:  (4878, 84) (4878,)\n"
     ]
    }
   ],
   "source": [
    "Xtrain,ytrain,Xtest,ytest,Xdev,ydev = dp.loadprocesseddata()"
   ]
  },
  {
   "cell_type": "code",
   "execution_count": 8,
   "metadata": {},
   "outputs": [
    {
     "name": "stdout",
     "output_type": "stream",
     "text": [
      "\n",
      "Training Random Forest Classifier...\n",
      "Random Forest Test Accuracy: 0.918785890073831\n"
     ]
    }
   ],
   "source": [
    "\n",
    "#\n",
    "# blank model\n",
    "#\n",
    "\n",
    "# random forest\n",
    "print(\"\\nTraining Random Forest Classifier...\")\n",
    "random_forest_model = RandomForestClassifier(\n",
    "    n_estimators=100, \n",
    "    max_depth=None, \n",
    "    random_state=42, \n",
    "    n_jobs=-1\n",
    ")\n",
    "\n",
    "random_forest_model.fit(Xtrain, ytrain)\n",
    "ytest_pred_rf = random_forest_model.predict(Xtest)\n",
    "print(\"Random Forest Test Accuracy:\", accuracy_score(ytest, ytest_pred_rf))\n"
   ]
  },
  {
   "cell_type": "code",
   "execution_count": 10,
   "metadata": {},
   "outputs": [
    {
     "name": "stdout",
     "output_type": "stream",
     "text": [
      "\n",
      "Performing Grid Search for Random Forest Classifier...\n",
      "Fitting 3 folds for each of 27 candidates, totalling 81 fits\n",
      "Best Parameters for Random Forest Classifier: {'max_depth': None, 'max_features': None, 'n_estimators': 200}\n",
      "Random Forest Test Accuracy: 0.9251435602953241\n"
     ]
    }
   ],
   "source": [
    "\n",
    "#\n",
    "# with basic grid search\n",
    "#\n",
    "\n",
    "# Define hyperparameter grid\n",
    "\n",
    "random_forest_param_grid = {\n",
    "    'n_estimators': [50, 100, 200],\n",
    "    'max_depth': [10, 20, None],\n",
    "    'max_features': ['sqrt', 'log2', None]\n",
    "}\n",
    "\n",
    "\n",
    "# Random Forest Classifier with Grid Search\n",
    "print(\"\\nPerforming Grid Search for Random Forest Classifier...\")\n",
    "random_forest_model = RandomForestClassifier(random_state=42, n_jobs=-1)\n",
    "random_forest_grid_search = GridSearchCV(\n",
    "    estimator=random_forest_model, \n",
    "    param_grid=random_forest_param_grid, \n",
    "    scoring='accuracy', \n",
    "    cv=3,\n",
    "    n_jobs=-1,\n",
    "    verbose=2\n",
    ")\n",
    "random_forest_grid_search.fit(Xtrain, ytrain)\n",
    "\n",
    "# Best Random Forest Model\n",
    "print(\"Best Parameters for Random Forest Classifier:\", random_forest_grid_search.best_params_)\n",
    "best_random_forest_model = random_forest_grid_search.best_estimator_\n",
    "ytest_pred_rf = best_random_forest_model.predict(Xtest)\n",
    "print(\"Random Forest Test Accuracy:\", accuracy_score(ytest, ytest_pred_rf))\n",
    "\n"
   ]
  }
 ],
 "metadata": {
  "kernelspec": {
   "display_name": "Python 3",
   "language": "python",
   "name": "python3"
  },
  "language_info": {
   "codemirror_mode": {
    "name": "ipython",
    "version": 3
   },
   "file_extension": ".py",
   "mimetype": "text/x-python",
   "name": "python",
   "nbconvert_exporter": "python",
   "pygments_lexer": "ipython3",
   "version": "3.9.13"
  }
 },
 "nbformat": 4,
 "nbformat_minor": 2
}
