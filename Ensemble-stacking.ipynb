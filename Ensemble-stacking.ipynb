{
 "cells": [
  {
   "cell_type": "markdown",
   "metadata": {},
   "source": [
    "Stacking Classifier<br>\n",
    "Author: Casey Kellett Whitwham\n"
   ]
  },
  {
   "cell_type": "markdown",
   "metadata": {},
   "source": [
    "---\n",
    "\n",
    "Imports"
   ]
  },
  {
   "cell_type": "code",
   "execution_count": 14,
   "metadata": {},
   "outputs": [],
   "source": [
    "import importlib\n",
    "import dataprep as dp\n",
    "importlib.reload(dp)\n",
    "\n",
    "from sklearn.linear_model import LogisticRegression\n",
    "from sklearn.metrics import accuracy_score,confusion_matrix\n",
    "\n",
    "from sklearn.tree import DecisionTreeClassifier\n",
    "from sklearn.ensemble import StackingClassifier\n",
    "from sklearn.ensemble import GradientBoostingClassifier\n",
    "from sklearn.ensemble import AdaBoostClassifier\n",
    "from sklearn.ensemble import HistGradientBoostingClassifier\n",
    "from sklearn.ensemble import RandomForestClassifier\n",
    "from sklearn.ensemble import BaggingClassifier\n",
    "\n",
    "import numpy as np\n",
    "from sklearn.model_selection import train_test_split, GridSearchCV\n",
    "import pandas as pd\n",
    "import numpy as np\n",
    "import matplotlib.pyplot as plt\n",
    "import seaborn as sns"
   ]
  },
  {
   "cell_type": "markdown",
   "metadata": {},
   "source": [
    "---\n",
    "\n",
    "Load Processed Data"
   ]
  },
  {
   "cell_type": "code",
   "execution_count": 15,
   "metadata": {},
   "outputs": [
    {
     "name": "stdout",
     "output_type": "stream",
     "text": [
      "(24384, 12)\n",
      "Train X,y shape:  (14609, 84) (14609,)\n",
      "Test X,y shape:  (4876, 84) (4876,)\n",
      "Dev X,y shape:  (4878, 84) (4878,)\n"
     ]
    }
   ],
   "source": [
    "Xtrain,ytrain,Xtest,ytest,Xdev,ydev = dp.loadprocesseddata()"
   ]
  },
  {
   "cell_type": "markdown",
   "metadata": {},
   "source": [
    "---\n",
    "\n",
    "Use top params from project 1's Decision Tree"
   ]
  },
  {
   "cell_type": "code",
   "execution_count": 16,
   "metadata": {},
   "outputs": [],
   "source": [
    "top_dt ={'criterion': 'entropy','max_depth': 10,'max_features': None, 'min_samples_leaf': 4,'min_samples_split': 10, 'class_weight': None}\n",
    "dt_fin =  DecisionTreeClassifier(**top_dt)"
   ]
  },
  {
   "cell_type": "markdown",
   "metadata": {},
   "source": [
    "---\n",
    "\n",
    "Ensuring Y sets are being passed as 1d arrays - Ran into setting invalid as nan warnings."
   ]
  },
  {
   "cell_type": "code",
   "execution_count": 17,
   "metadata": {},
   "outputs": [],
   "source": [
    "ytrain = np.ravel(ytrain)\n",
    "ydev = np.ravel(ydev)"
   ]
  },
  {
   "cell_type": "markdown",
   "metadata": {},
   "source": [
    "---\n",
    "\n",
    "Define models for stacking (top 3 ensemble methods from project 2)"
   ]
  },
  {
   "cell_type": "code",
   "execution_count": 18,
   "metadata": {},
   "outputs": [],
   "source": [
    "rf_fin = RandomForestClassifier(**top_dt,n_estimators=200)\n",
    "\n",
    "top_dt_upd = top_dt.copy() \n",
    "top_dt_upd.pop('class_weight', None)\n",
    "top_dt_upd.pop('criterion', None)\n",
    "grad_fin = GradientBoostingClassifier(**top_dt_upd,learning_rate= 0.5,loss ='log_loss',n_estimators= 150)\n",
    "\n",
    "hist_fin = HistGradientBoostingClassifier(l2_regularization = 0.0, learning_rate=  0.1, max_iter= 300)\n",
    "\n",
    "bag_fin = BaggingClassifier(estimator=dt_fin,max_samples=1.0, n_estimators=50)"
   ]
  },
  {
   "cell_type": "markdown",
   "metadata": {},
   "source": [
    "---\n",
    "Create model"
   ]
  },
  {
   "cell_type": "code",
   "execution_count": 22,
   "metadata": {},
   "outputs": [],
   "source": [
    "estimators = [('rf', rf_fin),('grad', grad_fin),('hist', hist_fin)]\n",
    "stack_fin = StackingClassifier(estimators=estimators,final_estimator=LogisticRegression(),n_jobs=-1)"
   ]
  },
  {
   "cell_type": "markdown",
   "metadata": {},
   "source": [
    "---\n",
    "Evaluate Model"
   ]
  },
  {
   "cell_type": "code",
   "execution_count": 23,
   "metadata": {},
   "outputs": [
    {
     "name": "stdout",
     "output_type": "stream",
     "text": [
      "Test Accuracy: 0.9315012305168171\n"
     ]
    },
    {
     "name": "stderr",
     "output_type": "stream",
     "text": [
      "c:\\Users\\casey\\AppData\\Local\\Programs\\Python\\Python39\\lib\\site-packages\\sklearn\\base.py:486: UserWarning: X has feature names, but LogisticRegression was fitted without feature names\n",
      "  warnings.warn(\n"
     ]
    }
   ],
   "source": [
    "stack_fin.fit(Xtrain,ytrain)\n",
    "y_pred = stack_fin.predict(Xtest)\n",
    "accuracy = accuracy_score(ytest, y_pred)\n",
    "print(\"Test Accuracy:\", accuracy)"
   ]
  }
 ],
 "metadata": {
  "kernelspec": {
   "display_name": "Python 3",
   "language": "python",
   "name": "python3"
  },
  "language_info": {
   "codemirror_mode": {
    "name": "ipython",
    "version": 3
   },
   "file_extension": ".py",
   "mimetype": "text/x-python",
   "name": "python",
   "nbconvert_exporter": "python",
   "pygments_lexer": "ipython3",
   "version": "3.9.13"
  }
 },
 "nbformat": 4,
 "nbformat_minor": 2
}
