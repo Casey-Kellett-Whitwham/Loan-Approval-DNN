{
 "cells": [
  {
   "cell_type": "markdown",
   "metadata": {},
   "source": [
    "Project: Loan DNN\n",
    "\n",
    "- Author: Casey Kellett Whitwham\n",
    "- Goal: 92%\n",
    "- Final result: 92.00164079666138%"
   ]
  },
  {
   "cell_type": "markdown",
   "metadata": {},
   "source": [
    "------------------------------------------------------------------------------------\n",
    "\n",
    "Imports\n",
    "\n",
    "------------------------------------------------------------------------------------"
   ]
  },
  {
   "cell_type": "code",
   "execution_count": 1,
   "metadata": {},
   "outputs": [],
   "source": [
    "import importlib\n",
    "\n",
    "import dataprep as dp\n",
    "importlib.reload(dp)\n",
    "\n",
    "import numpy as np\n",
    "import pandas as pd\n",
    "\n",
    "import matplotlib.pyplot as plt\n",
    "import seaborn as sns\n",
    "\n",
    "import tensorflow as tf\n",
    "import keras_tuner as kt"
   ]
  },
  {
   "cell_type": "markdown",
   "metadata": {},
   "source": [
    "------------------------------------------------------------------------------------\n",
    "\n",
    "Load Prepped Data\n",
    "\n",
    "------------------------------------------------------------------------------------"
   ]
  },
  {
   "cell_type": "code",
   "execution_count": 2,
   "metadata": {},
   "outputs": [
    {
     "name": "stdout",
     "output_type": "stream",
     "text": [
      "(24384, 12)\n"
     ]
    },
    {
     "name": "stderr",
     "output_type": "stream",
     "text": [
      "c:\\Users\\casey\\AppData\\Local\\Programs\\Python\\Python39\\lib\\site-packages\\joblib\\externals\\loky\\backend\\context.py:136: UserWarning: Could not find the number of physical cores for the following reason:\n",
      "found 0 physical cores < 1\n",
      "Returning the number of logical cores instead. You can silence this warning by setting LOKY_MAX_CPU_COUNT to the number of cores you want to use.\n",
      "  warnings.warn(\n",
      "  File \"c:\\Users\\casey\\AppData\\Local\\Programs\\Python\\Python39\\lib\\site-packages\\joblib\\externals\\loky\\backend\\context.py\", line 282, in _count_physical_cores\n",
      "    raise ValueError(f\"found {cpu_count_physical} physical cores < 1\")\n"
     ]
    },
    {
     "name": "stdout",
     "output_type": "stream",
     "text": [
      "Train X,y shape:  (14609, 84) (14609,)\n",
      "Test X,y shape:  (4876, 84) (4876,)\n",
      "Dev X,y shape:  (4878, 84) (4878,)\n"
     ]
    }
   ],
   "source": [
    "Xtrain,ytrain,Xtest,ytest,Xdev,ydev = dp.loadprocesseddata()"
   ]
  },
  {
   "cell_type": "markdown",
   "metadata": {},
   "source": [
    "---\n",
    "\n",
    "Obtain Param Range function\n",
    "\n",
    "---"
   ]
  },
  {
   "cell_type": "code",
   "execution_count": 3,
   "metadata": {},
   "outputs": [],
   "source": [
    "##This take the top n amount of trials (n=num_to_extract) and extracts all params, putting them in a list for each param.\n",
    "##We then take the min and max value for each (numerical) param.\n",
    "\n",
    "def obtain_params(num_to_extract, search):\n",
    "    top_params = []\n",
    "    print(f\"Number of trials to extract: {num_to_extract}\")\n",
    "    \n",
    "    best_trials = search.oracle.get_best_trials(num_to_extract)\n",
    "\n",
    "    for trial in best_trials:\n",
    "        hyperparameters = trial.hyperparameters\n",
    "        top_params.append([hyperparameters.values])\n",
    "\n",
    "    aggregated_params = {}\n",
    "\n",
    "    for model in top_params:\n",
    "        params = model[0]\n",
    "\n",
    "        for param, value in params.items():\n",
    "            if param not in aggregated_params:\n",
    "                aggregated_params[param] = []\n",
    "            aggregated_params[param].append(value)\n",
    "\n",
    "    final_results = {}\n",
    "    for param, values in aggregated_params.items():\n",
    "        if isinstance(values[0], (int, float)):\n",
    "            final_results[param] = {\n",
    "                'min': min(values),\n",
    "                'max': max(values)\n",
    "            }\n",
    "        else:\n",
    "            final_results[param] = list(set(values))\n",
    "\n",
    "    return final_results\n"
   ]
  },
  {
   "cell_type": "markdown",
   "metadata": {},
   "source": [
    "---\n",
    "\n",
    "Refine Params Function\n",
    "\n",
    "---"
   ]
  },
  {
   "cell_type": "code",
   "execution_count": 4,
   "metadata": {},
   "outputs": [],
   "source": [
    "def refine_params(results, n_layers_steps, n_neurons_steps, decay_steps_steps, decay_rate_steps, dropout_rate_steps):\n",
    "\n",
    "    n_layers_steps_updated = max(int(n_layers_steps / 2), 1)\n",
    "    n_neurons_steps_updated = max(int(n_neurons_steps / 2), 1)\n",
    "    decay_steps_steps_updated = max(int(decay_steps_steps / 1.25), 1)\n",
    "    decay_rate_steps_updated = max(decay_rate_steps / 1.25, 0.0001)\n",
    "    dropout_rate_steps_updated = max(dropout_rate_steps / 1.25, 0.0001)\n",
    "    \n",
    "\n",
    "\n",
    "    n_layers_range_updated = [results['n_layers']['min'], results['n_layers']['max'], n_layers_steps_updated]\n",
    "    n_neurons_range_updated = [results['n_neurons']['min'], results['n_neurons']['max'], n_neurons_steps_updated]\n",
    "    learning_rate_range_updated = [results['learning_rate']['min'], results['learning_rate']['max']]\n",
    "    decay_steps_range_updated = [results['decay_steps']['min'], results['decay_steps']['max'], decay_steps_steps_updated]\n",
    "    decay_rate_range_updated = [results['decay_rate']['min'], results['decay_rate']['max'], decay_rate_steps_updated]\n",
    "    dropout_rate_range_updated = [results['dropout_rate']['min'], results['dropout_rate']['max'], dropout_rate_steps_updated]\n",
    "    batch_norm_choices = results.get('batch_norm', [])\n",
    "    optimizer_choices_updated = results.get('optimizer', [])\n",
    "    activation_choices_updated = results.get('activation', [])\n",
    "    \n",
    "    return n_layers_range_updated, n_neurons_range_updated, learning_rate_range_updated, decay_steps_range_updated, decay_rate_range_updated, dropout_rate_range_updated, optimizer_choices_updated, activation_choices_updated"
   ]
  },
  {
   "cell_type": "markdown",
   "metadata": {},
   "source": [
    "------------------------------------------------------------------------------------\n",
    "\n",
    "Adaptive Build Model Function\n",
    "\n",
    "------------------------------------------------------------------------------------"
   ]
  },
  {
   "cell_type": "code",
   "execution_count": 5,
   "metadata": {},
   "outputs": [],
   "source": [
    "def build_model_adapt(hp, n_layers_range, n_neurons_range, learning_rate_range, decay_steps_range, decay_rate_range, dropout_rate_range, optimizer_choices,activation_choices,batch_norm_choices):\n",
    "\n",
    "    n_layers = hp.Int(\"n_layers\", min_value=n_layers_range[0], max_value=n_layers_range[1], step=n_layers_range[2])\n",
    "    n_neurons = hp.Int(\"n_neurons\", min_value=n_neurons_range[0], max_value=n_neurons_range[1], step=n_neurons_range[2])\n",
    "    learning_rate = hp.Float(\"learning_rate\", min_value=learning_rate_range[0], max_value=learning_rate_range[1], sampling=\"log\")\n",
    "    decay_steps = hp.Int(\"decay_steps\", min_value=decay_steps_range[0], max_value=decay_steps_range[1], step=decay_steps_range[2])\n",
    "    decay_rate = hp.Float(\"decay_rate\", min_value=decay_rate_range[0], max_value=decay_rate_range[1], step=decay_rate_range[2])\n",
    "    dropout_rate = hp.Float(\"dropout_rate\", min_value=dropout_rate_range[0], max_value=dropout_rate_range[1], step=dropout_rate_range[2])\n",
    "    batch_norm = hp.Choice(\"batch_norm\", values=batch_norm_choices)\n",
    "    \n",
    "    optimizer_choice = hp.Choice(\"optimizer\", values=optimizer_choices)\n",
    "\n",
    "    expon_dec = tf.keras.optimizers.schedules.ExponentialDecay(\n",
    "        initial_learning_rate=learning_rate,\n",
    "        decay_steps=decay_steps,\n",
    "        decay_rate=decay_rate\n",
    "    )\n",
    "\n",
    "    if optimizer_choice == \"sgd\":\n",
    "        optimizer = tf.keras.optimizers.SGD(learning_rate=expon_dec)\n",
    "    elif optimizer_choice == \"RMSprop\":\n",
    "        optimizer = tf.keras.optimizers.RMSprop(learning_rate=expon_dec)\n",
    "    else:\n",
    "        optimizer = tf.keras.optimizers.Adam(learning_rate=expon_dec)\n",
    "\n",
    "    model = tf.keras.Sequential()\n",
    "    model.add(tf.keras.layers.Flatten())\n",
    "\n",
    "    for _ in range(n_layers):\n",
    "        model.add(tf.keras.layers.Dense(\n",
    "            units=n_neurons,\n",
    "            activation=hp.Choice(\"activation\", values=activation_choices) \n",
    "        ))\n",
    "        if batch_norm:\n",
    "            model.add(tf.keras.layers.BatchNormalization())\n",
    "        model.add(tf.keras.layers.Dropout(dropout_rate))\n",
    "\n",
    "    model.add(tf.keras.layers.Dense(1, activation=\"sigmoid\"))\n",
    "\n",
    "    model.compile(loss=\"BinaryCrossentropy\", optimizer=optimizer, metrics=[\"accuracy\"])\n",
    "\n",
    "    return model\n"
   ]
  },
  {
   "cell_type": "markdown",
   "metadata": {},
   "source": [
    "---\n",
    "\n",
    "Adaptive random search\n",
    "\n",
    "---"
   ]
  },
  {
   "cell_type": "code",
   "execution_count": 6,
   "metadata": {},
   "outputs": [],
   "source": [
    "def search(i,n_layers_range,n_neurons_range, learning_rate_range, decay_steps_range, decay_rate_range, dropout_rate_range, optimizer_choices,activation_choices,batch_norm_choices,Xtrain, ytrain,Xdev, ydev):\n",
    "    iteration_number = i+1\n",
    "    out_folder = \"Casey_DNN\"\n",
    "    hyp_search_folder = f\"Search #{str(iteration_number)}\"\n",
    "    max_trials = 500\n",
    "    random_search = kt.RandomSearch(\n",
    "        lambda hp: build_model_adapt(hp, \n",
    "            n_layers_range, \n",
    "            n_neurons_range, \n",
    "            learning_rate_range, \n",
    "            decay_steps_range, \n",
    "            decay_rate_range, \n",
    "            dropout_rate_range, \n",
    "            optimizer_choices,\n",
    "            activation_choices,\n",
    "            batch_norm_choices\n",
    "        ),\n",
    "        objective='val_accuracy',\n",
    "        max_trials=max_trials,\n",
    "        directory=out_folder,\n",
    "        project_name=hyp_search_folder,\n",
    "        seed=42\n",
    "    )\n",
    "    top_perc = int((max_trials * (0.15))/iteration_number)\n",
    "\n",
    "    print(iteration_number,top_perc)\n",
    "    random_search.search(Xtrain, ytrain, epochs=5, validation_data=(Xdev, ydev))\n",
    "\n",
    "    results = obtain_params(top_perc, random_search)\n",
    "    print(\"Old Params :\",n_layers_range, n_neurons_range, learning_rate_range, decay_steps_range, decay_rate_range, dropout_rate_range, optimizer_choices,activation_choices)\n",
    "    n_layers_range, n_neurons_range, learning_rate_range, decay_steps_range, decay_rate_range, dropout_rate_range, optimizer_choices,activation_choices =refine_params(results, n_layers_range[2], n_neurons_range[2], decay_steps_range[2], decay_rate_range[2], dropout_rate_range[2])\n",
    "    print(\"New Params :\",n_layers_range, n_neurons_range, learning_rate_range, decay_steps_range, decay_rate_range, dropout_rate_range, optimizer_choices,activation_choices)\n",
    "    return n_layers_range, n_neurons_range, learning_rate_range, decay_steps_range, decay_rate_range, dropout_rate_range, optimizer_choices,activation_choices,batch_norm_choices                                     "
   ]
  },
  {
   "cell_type": "markdown",
   "metadata": {},
   "source": [
    "---\n",
    "\n",
    "Function to iterate random search\n",
    "\n",
    "---"
   ]
  },
  {
   "cell_type": "code",
   "execution_count": 7,
   "metadata": {},
   "outputs": [],
   "source": [
    "def iter_random(count,n_layers_range, n_neurons_range, learning_rate_range, decay_steps_range, decay_rate_range, dropout_rate_range, optimizer_choices,activation_choices,batch_norm_choices):\n",
    "    params_at_iter = []\n",
    "    for i in range(0,count):\n",
    "        params_at_iter.append([f\"Params #{i+1}\",n_layers_range, n_neurons_range, learning_rate_range, decay_steps_range, decay_rate_range, dropout_rate_range, optimizer_choices,activation_choices,batch_norm_choices])\n",
    "        print(\"Starting search #\",i+1)\n",
    "        print(\"Current Params: \",n_layers_range, n_neurons_range, learning_rate_range, decay_steps_range, decay_rate_range, dropout_rate_range, optimizer_choices,activation_choices,batch_norm_choices)\n",
    "        params_at_iter[i]=[n_layers_range, n_neurons_range, learning_rate_range, decay_steps_range, decay_rate_range, dropout_rate_range, optimizer_choices,activation_choices,batch_norm_choices]\n",
    "        n_layers_range, n_neurons_range, learning_rate_range, decay_steps_range, decay_rate_range, dropout_rate_range, optimizer_choices,activation_choices,batch_norm_choices = search(i,n_layers_range,n_neurons_range, learning_rate_range, decay_steps_range, decay_rate_range, dropout_rate_range, optimizer_choices,activation_choices,batch_norm_choices,Xtrain, ytrain,Xdev, ydev)\n",
    "    ranges = [n_layers_range, n_neurons_range, learning_rate_range, decay_steps_range, decay_rate_range, dropout_rate_range, optimizer_choices,activation_choices,batch_norm_choices]\n",
    "    return ranges,params_at_iter"
   ]
  },
  {
   "cell_type": "markdown",
   "metadata": {},
   "source": [
    "---\n",
    "\n",
    "Define initial param searches\n",
    "\n",
    "---\n",
    "\n"
   ]
  },
  {
   "cell_type": "code",
   "execution_count": 8,
   "metadata": {},
   "outputs": [],
   "source": [
    "n_layers_steps = 1\n",
    "n_neurons_steps = 50\n",
    "decay_steps_steps = 50\n",
    "decay_rate_steps = 0.1\n",
    "dropout_rate_steps = 0.1\n",
    "\n",
    "n_layers_range =[2,10,n_layers_steps]\n",
    "n_neurons_range =[50,750,n_neurons_steps]\n",
    "learning_rate_range =[1e-8,1e-1]\n",
    "decay_steps_range =[100,10000,decay_steps_steps]\n",
    "decay_rate_range =[0.0001,1,decay_rate_steps]\n",
    "dropout_rate_range =[0.1,0.5,dropout_rate_steps]\n",
    "optimizer_choices = [\"RMSprop\", \"adam\",\"sgd\"]\n",
    "activation_choices = [\"relu\", \"tanh\", \"selu\", \"leaky_relu\"]\n",
    "batch_norm_choices = [True,False]"
   ]
  },
  {
   "cell_type": "markdown",
   "metadata": {},
   "source": [
    "---\n",
    "\n",
    "Perform 3 random searches with 250 trials, extracting the range of params from the top trials \n",
    " - Range to be extracted is based on ```int((max_trials * 0.15) / iteration_number)```,\n",
    " <br>\n",
    " - Trial 1 - top 62 trials\n",
    " - Trial 2 - top 31 trials\n",
    " - Trial 3 - top 20  trials\n",
    "\n",
    "Then passing those values to the next iteration of random search\n",
    "\n",
    "---"
   ]
  },
  {
   "cell_type": "code",
   "execution_count": 9,
   "metadata": {},
   "outputs": [
    {
     "name": "stdout",
     "output_type": "stream",
     "text": [
      "Starting search # 1\n",
      "Current Params:  [2, 10, 1] [50, 750, 50] [1e-08, 0.1] [100, 10000, 50] [0.0001, 1, 0.1] [0.1, 0.5, 0.1] ['RMSprop', 'adam', 'sgd'] ['relu', 'tanh', 'selu', 'leaky_relu'] [True, False]\n",
      "Reloading Tuner from Casey_DNN\\Search #1\\tuner0.json\n",
      "1 75\n",
      "Number of trials to extract: 75\n",
      "Old Params : [2, 10, 1] [50, 750, 50] [1e-08, 0.1] [100, 10000, 50] [0.0001, 1, 0.1] [0.1, 0.5, 0.1] ['RMSprop', 'adam', 'sgd'] ['relu', 'tanh', 'selu', 'leaky_relu']\n",
      "New Params : [2, 10, 1] [50, 750, 25] [2.1353405450719975e-05, 0.08809330357705886] [150, 9950, 40] [0.0001, 0.9001, 0.08] [0.1, 0.5, 0.08] ['adam', 'sgd', 'RMSprop'] ['relu', 'tanh', 'selu', 'leaky_relu']\n",
      "Starting search # 2\n",
      "Current Params:  [2, 10, 1] [50, 750, 25] [2.1353405450719975e-05, 0.08809330357705886] [150, 9950, 40] [0.0001, 0.9001, 0.08] [0.1, 0.5, 0.08] ['adam', 'sgd', 'RMSprop'] ['relu', 'tanh', 'selu', 'leaky_relu'] [True, False]\n",
      "Reloading Tuner from Casey_DNN\\Search #2\\tuner0.json\n",
      "2 37\n",
      "Number of trials to extract: 37\n",
      "Old Params : [2, 10, 1] [50, 750, 25] [2.1353405450719975e-05, 0.08809330357705886] [150, 9950, 40] [0.0001, 0.9001, 0.08] [0.1, 0.5, 0.08] ['adam', 'sgd', 'RMSprop'] ['relu', 'tanh', 'selu', 'leaky_relu']\n",
      "New Params : [2, 10, 1] [50, 750, 12] [7.263560936568143e-05, 0.042033014877316914] [190, 9950, 32] [0.0001, 0.8801, 0.064] [0.1, 0.33999999999999997, 0.064] ['adam', 'sgd', 'RMSprop'] ['relu', 'tanh', 'selu', 'leaky_relu']\n",
      "Starting search # 3\n",
      "Current Params:  [2, 10, 1] [50, 750, 12] [7.263560936568143e-05, 0.042033014877316914] [190, 9950, 32] [0.0001, 0.8801, 0.064] [0.1, 0.33999999999999997, 0.064] ['adam', 'sgd', 'RMSprop'] ['relu', 'tanh', 'selu', 'leaky_relu'] [True, False]\n",
      "Reloading Tuner from Casey_DNN\\Search #3\\tuner0.json\n",
      "3 25\n",
      "Number of trials to extract: 25\n",
      "Old Params : [2, 10, 1] [50, 750, 12] [7.263560936568143e-05, 0.042033014877316914] [190, 9950, 32] [0.0001, 0.8801, 0.064] [0.1, 0.33999999999999997, 0.064] ['adam', 'sgd', 'RMSprop'] ['relu', 'tanh', 'selu', 'leaky_relu']\n",
      "New Params : [2, 10, 1] [74, 734, 6] [0.00040347191461449577, 0.02225908319922579] [542, 9438, 25] [0.0001, 0.7041, 0.0512] [0.1, 0.29200000000000004, 0.0512] ['adam', 'RMSprop'] ['relu', 'tanh', 'leaky_relu']\n",
      "[[[2, 10, 1], [50, 750, 50], [1e-08, 0.1], [100, 10000, 50], [0.0001, 1, 0.1], [0.1, 0.5, 0.1], ['RMSprop', 'adam', 'sgd'], ['relu', 'tanh', 'selu', 'leaky_relu'], [True, False]], [[2, 10, 1], [50, 750, 25], [2.1353405450719975e-05, 0.08809330357705886], [150, 9950, 40], [0.0001, 0.9001, 0.08], [0.1, 0.5, 0.08], ['adam', 'sgd', 'RMSprop'], ['relu', 'tanh', 'selu', 'leaky_relu'], [True, False]], [[2, 10, 1], [50, 750, 12], [7.263560936568143e-05, 0.042033014877316914], [190, 9950, 32], [0.0001, 0.8801, 0.064], [0.1, 0.33999999999999997, 0.064], ['adam', 'sgd', 'RMSprop'], ['relu', 'tanh', 'selu', 'leaky_relu'], [True, False]]]\n"
     ]
    }
   ],
   "source": [
    "ranges,params_at_iter = iter_random(3,n_layers_range, n_neurons_range, learning_rate_range, decay_steps_range, decay_rate_range, dropout_rate_range, optimizer_choices,activation_choices,batch_norm_choices)\n",
    "print(params_at_iter)\n"
   ]
  },
  {
   "cell_type": "markdown",
   "metadata": {},
   "source": [
    "---\n",
    "\n",
    "Final Hyperband Search with refined params\n"
   ]
  },
  {
   "cell_type": "code",
   "execution_count": 10,
   "metadata": {},
   "outputs": [
    {
     "name": "stdout",
     "output_type": "stream",
     "text": [
      "Reloading Tuner from Casey_DNN\\hyperband_search\\tuner0.json\n",
      "WARNING:tensorflow:From c:\\Users\\casey\\AppData\\Local\\Programs\\Python\\Python39\\lib\\site-packages\\keras\\src\\backend\\common\\global_state.py:82: The name tf.reset_default_graph is deprecated. Please use tf.compat.v1.reset_default_graph instead.\n",
      "\n"
     ]
    },
    {
     "name": "stderr",
     "output_type": "stream",
     "text": [
      "c:\\Users\\casey\\AppData\\Local\\Programs\\Python\\Python39\\lib\\site-packages\\keras\\src\\saving\\saving_lib.py:757: UserWarning: Skipping variable loading for optimizer 'adam', because it has 1 variables whereas the saved optimizer has 17 variables. \n",
      "  saveable.load_own_variables(weights_store.get(inner_path))\n"
     ]
    },
    {
     "name": "stdout",
     "output_type": "stream",
     "text": [
      "Evaluating batch size 64\n",
      "\u001b[1m77/77\u001b[0m \u001b[32m━━━━━━━━━━━━━━━━━━━━\u001b[0m\u001b[37m\u001b[0m \u001b[1m0s\u001b[0m 2ms/step - accuracy: 0.9158 - loss: 0.2469\n",
      "Evaluating batch size 128\n",
      "\u001b[1m39/39\u001b[0m \u001b[32m━━━━━━━━━━━━━━━━━━━━\u001b[0m\u001b[37m\u001b[0m \u001b[1m0s\u001b[0m 3ms/step - accuracy: 0.9168 - loss: 0.2452\n",
      "Evaluating batch size 256\n",
      "\u001b[1m20/20\u001b[0m \u001b[32m━━━━━━━━━━━━━━━━━━━━\u001b[0m\u001b[37m\u001b[0m \u001b[1m0s\u001b[0m 4ms/step - accuracy: 0.9178 - loss: 0.2431\n",
      "Evaluating batch size 512\n",
      "\u001b[1m10/10\u001b[0m \u001b[32m━━━━━━━━━━━━━━━━━━━━\u001b[0m\u001b[37m\u001b[0m \u001b[1m0s\u001b[0m 8ms/step - accuracy: 0.9185 - loss: 0.2411\n",
      "Evaluating batch size 1024\n",
      "\u001b[1m5/5\u001b[0m \u001b[32m━━━━━━━━━━━━━━━━━━━━\u001b[0m\u001b[37m\u001b[0m \u001b[1m0s\u001b[0m 13ms/step - accuracy: 0.9183 - loss: 0.2426\n",
      "Evaluating batch size 2048\n",
      "\u001b[1m3/3\u001b[0m \u001b[32m━━━━━━━━━━━━━━━━━━━━\u001b[0m\u001b[37m\u001b[0m \u001b[1m0s\u001b[0m 19ms/step - accuracy: 0.9196 - loss: 0.2402\n",
      "Evaluating batch size 4096\n",
      "\u001b[1m2/2\u001b[0m \u001b[32m━━━━━━━━━━━━━━━━━━━━\u001b[0m\u001b[37m\u001b[0m \u001b[1m0s\u001b[0m 26ms/step - accuracy: 0.9201 - loss: 0.2387\n"
     ]
    }
   ],
   "source": [
    "out_folder = \"Casey_DNN\"\n",
    "hyp_search_folder = \"hyperband_search\"\n",
    "batch_sizes = [64, 128, 256, 512, 1024, 2048, 4096]\n",
    "\n",
    "\n",
    "hyperband = kt.Hyperband(\n",
    "    lambda hp: build_model_adapt(hp, \n",
    "        ranges[0], \n",
    "        ranges[1], \n",
    "        ranges[2], \n",
    "        ranges[3], \n",
    "        ranges[4], \n",
    "        ranges[5], \n",
    "        ranges[6],\n",
    "        ranges[7],\n",
    "        ranges[8]),\n",
    "    objective='val_accuracy',\n",
    "    max_epochs=15,\n",
    "    factor=3,\n",
    "    hyperband_iterations=3,\n",
    "    directory=out_folder,\n",
    "    project_name=hyp_search_folder,\n",
    "    seed=42\n",
    ")\n",
    "\n",
    "\n",
    "hyperband.search(Xtrain, ytrain, epochs=10, validation_data=(Xdev, ydev))\n",
    "\n",
    "best_model = hyperband.get_best_models(num_models=1)[0]\n",
    "\n",
    "for batch_size in batch_sizes:\n",
    "    print(f\"Evaluating batch size {batch_size}\")\n",
    "    loss, mape = best_model.evaluate(Xdev, ydev, batch_size=batch_size)\n"
   ]
  },
  {
   "cell_type": "markdown",
   "metadata": {},
   "source": [
    "---\n",
    "\n",
    "Display top Params\n",
    "\n",
    "---"
   ]
  },
  {
   "cell_type": "code",
   "execution_count": 20,
   "metadata": {},
   "outputs": [
    {
     "name": "stdout",
     "output_type": "stream",
     "text": [
      "Best Hyperparameters:\n",
      "n_layers: 3\n",
      "n_neurons: 644\n",
      "learning_rate: 0.000540839799142703\n",
      "decay_steps: 5217\n",
      "decay_rate: 0.10250000000000001\n",
      "dropout_rate: 0.1512\n",
      "batch_norm: 0\n",
      "optimizer: adam\n",
      "activation: relu\n",
      "tuner/epochs: 15\n",
      "tuner/initial_epoch: 5\n",
      "tuner/bracket: 2\n",
      "tuner/round: 2\n",
      "tuner/trial_id: 0045\n"
     ]
    }
   ],
   "source": [
    "best_trial = hyperband.oracle.get_best_trials()[0]\n",
    "best_hyperparameters = best_trial.hyperparameters\n",
    "hyperparameter_values = best_hyperparameters.values\n",
    "\n",
    "print(\"Best Hyperparameters:\")\n",
    "for param, value in hyperparameter_values.items():\n",
    "    print(f\"{param}: {value}\")\n"
   ]
  },
  {
   "cell_type": "markdown",
   "metadata": {},
   "source": [
    "---\n",
    "\n",
    "Fit Best Model and plot learning curve"
   ]
  },
  {
   "cell_type": "code",
   "execution_count": 11,
   "metadata": {},
   "outputs": [
    {
     "data": {
      "text/html": [
       "<pre style=\"white-space:pre;overflow-x:auto;line-height:normal;font-family:Menlo,'DejaVu Sans Mono',consolas,'Courier New',monospace\"><span style=\"font-weight: bold\">Model: \"sequential\"</span>\n",
       "</pre>\n"
      ],
      "text/plain": [
       "\u001b[1mModel: \"sequential\"\u001b[0m\n"
      ]
     },
     "metadata": {},
     "output_type": "display_data"
    },
    {
     "data": {
      "text/html": [
       "<pre style=\"white-space:pre;overflow-x:auto;line-height:normal;font-family:Menlo,'DejaVu Sans Mono',consolas,'Courier New',monospace\">┏━━━━━━━━━━━━━━━━━━━━━━━━━━━━━━━━━┳━━━━━━━━━━━━━━━━━━━━━━━━┳━━━━━━━━━━━━━━━┓\n",
       "┃<span style=\"font-weight: bold\"> Layer (type)                    </span>┃<span style=\"font-weight: bold\"> Output Shape           </span>┃<span style=\"font-weight: bold\">       Param # </span>┃\n",
       "┡━━━━━━━━━━━━━━━━━━━━━━━━━━━━━━━━━╇━━━━━━━━━━━━━━━━━━━━━━━━╇━━━━━━━━━━━━━━━┩\n",
       "│ flatten (<span style=\"color: #0087ff; text-decoration-color: #0087ff\">Flatten</span>)               │ (<span style=\"color: #00d7ff; text-decoration-color: #00d7ff\">None</span>, <span style=\"color: #00af00; text-decoration-color: #00af00\">84</span>)             │             <span style=\"color: #00af00; text-decoration-color: #00af00\">0</span> │\n",
       "├─────────────────────────────────┼────────────────────────┼───────────────┤\n",
       "│ dense (<span style=\"color: #0087ff; text-decoration-color: #0087ff\">Dense</span>)                   │ (<span style=\"color: #00d7ff; text-decoration-color: #00d7ff\">None</span>, <span style=\"color: #00af00; text-decoration-color: #00af00\">644</span>)            │        <span style=\"color: #00af00; text-decoration-color: #00af00\">54,740</span> │\n",
       "├─────────────────────────────────┼────────────────────────┼───────────────┤\n",
       "│ dropout (<span style=\"color: #0087ff; text-decoration-color: #0087ff\">Dropout</span>)               │ (<span style=\"color: #00d7ff; text-decoration-color: #00d7ff\">None</span>, <span style=\"color: #00af00; text-decoration-color: #00af00\">644</span>)            │             <span style=\"color: #00af00; text-decoration-color: #00af00\">0</span> │\n",
       "├─────────────────────────────────┼────────────────────────┼───────────────┤\n",
       "│ dense_1 (<span style=\"color: #0087ff; text-decoration-color: #0087ff\">Dense</span>)                 │ (<span style=\"color: #00d7ff; text-decoration-color: #00d7ff\">None</span>, <span style=\"color: #00af00; text-decoration-color: #00af00\">644</span>)            │       <span style=\"color: #00af00; text-decoration-color: #00af00\">415,380</span> │\n",
       "├─────────────────────────────────┼────────────────────────┼───────────────┤\n",
       "│ dropout_1 (<span style=\"color: #0087ff; text-decoration-color: #0087ff\">Dropout</span>)             │ (<span style=\"color: #00d7ff; text-decoration-color: #00d7ff\">None</span>, <span style=\"color: #00af00; text-decoration-color: #00af00\">644</span>)            │             <span style=\"color: #00af00; text-decoration-color: #00af00\">0</span> │\n",
       "├─────────────────────────────────┼────────────────────────┼───────────────┤\n",
       "│ dense_2 (<span style=\"color: #0087ff; text-decoration-color: #0087ff\">Dense</span>)                 │ (<span style=\"color: #00d7ff; text-decoration-color: #00d7ff\">None</span>, <span style=\"color: #00af00; text-decoration-color: #00af00\">644</span>)            │       <span style=\"color: #00af00; text-decoration-color: #00af00\">415,380</span> │\n",
       "├─────────────────────────────────┼────────────────────────┼───────────────┤\n",
       "│ dropout_2 (<span style=\"color: #0087ff; text-decoration-color: #0087ff\">Dropout</span>)             │ (<span style=\"color: #00d7ff; text-decoration-color: #00d7ff\">None</span>, <span style=\"color: #00af00; text-decoration-color: #00af00\">644</span>)            │             <span style=\"color: #00af00; text-decoration-color: #00af00\">0</span> │\n",
       "├─────────────────────────────────┼────────────────────────┼───────────────┤\n",
       "│ dense_3 (<span style=\"color: #0087ff; text-decoration-color: #0087ff\">Dense</span>)                 │ (<span style=\"color: #00d7ff; text-decoration-color: #00d7ff\">None</span>, <span style=\"color: #00af00; text-decoration-color: #00af00\">1</span>)              │           <span style=\"color: #00af00; text-decoration-color: #00af00\">645</span> │\n",
       "└─────────────────────────────────┴────────────────────────┴───────────────┘\n",
       "</pre>\n"
      ],
      "text/plain": [
       "┏━━━━━━━━━━━━━━━━━━━━━━━━━━━━━━━━━┳━━━━━━━━━━━━━━━━━━━━━━━━┳━━━━━━━━━━━━━━━┓\n",
       "┃\u001b[1m \u001b[0m\u001b[1mLayer (type)                   \u001b[0m\u001b[1m \u001b[0m┃\u001b[1m \u001b[0m\u001b[1mOutput Shape          \u001b[0m\u001b[1m \u001b[0m┃\u001b[1m \u001b[0m\u001b[1m      Param #\u001b[0m\u001b[1m \u001b[0m┃\n",
       "┡━━━━━━━━━━━━━━━━━━━━━━━━━━━━━━━━━╇━━━━━━━━━━━━━━━━━━━━━━━━╇━━━━━━━━━━━━━━━┩\n",
       "│ flatten (\u001b[38;5;33mFlatten\u001b[0m)               │ (\u001b[38;5;45mNone\u001b[0m, \u001b[38;5;34m84\u001b[0m)             │             \u001b[38;5;34m0\u001b[0m │\n",
       "├─────────────────────────────────┼────────────────────────┼───────────────┤\n",
       "│ dense (\u001b[38;5;33mDense\u001b[0m)                   │ (\u001b[38;5;45mNone\u001b[0m, \u001b[38;5;34m644\u001b[0m)            │        \u001b[38;5;34m54,740\u001b[0m │\n",
       "├─────────────────────────────────┼────────────────────────┼───────────────┤\n",
       "│ dropout (\u001b[38;5;33mDropout\u001b[0m)               │ (\u001b[38;5;45mNone\u001b[0m, \u001b[38;5;34m644\u001b[0m)            │             \u001b[38;5;34m0\u001b[0m │\n",
       "├─────────────────────────────────┼────────────────────────┼───────────────┤\n",
       "│ dense_1 (\u001b[38;5;33mDense\u001b[0m)                 │ (\u001b[38;5;45mNone\u001b[0m, \u001b[38;5;34m644\u001b[0m)            │       \u001b[38;5;34m415,380\u001b[0m │\n",
       "├─────────────────────────────────┼────────────────────────┼───────────────┤\n",
       "│ dropout_1 (\u001b[38;5;33mDropout\u001b[0m)             │ (\u001b[38;5;45mNone\u001b[0m, \u001b[38;5;34m644\u001b[0m)            │             \u001b[38;5;34m0\u001b[0m │\n",
       "├─────────────────────────────────┼────────────────────────┼───────────────┤\n",
       "│ dense_2 (\u001b[38;5;33mDense\u001b[0m)                 │ (\u001b[38;5;45mNone\u001b[0m, \u001b[38;5;34m644\u001b[0m)            │       \u001b[38;5;34m415,380\u001b[0m │\n",
       "├─────────────────────────────────┼────────────────────────┼───────────────┤\n",
       "│ dropout_2 (\u001b[38;5;33mDropout\u001b[0m)             │ (\u001b[38;5;45mNone\u001b[0m, \u001b[38;5;34m644\u001b[0m)            │             \u001b[38;5;34m0\u001b[0m │\n",
       "├─────────────────────────────────┼────────────────────────┼───────────────┤\n",
       "│ dense_3 (\u001b[38;5;33mDense\u001b[0m)                 │ (\u001b[38;5;45mNone\u001b[0m, \u001b[38;5;34m1\u001b[0m)              │           \u001b[38;5;34m645\u001b[0m │\n",
       "└─────────────────────────────────┴────────────────────────┴───────────────┘\n"
      ]
     },
     "metadata": {},
     "output_type": "display_data"
    },
    {
     "data": {
      "text/html": [
       "<pre style=\"white-space:pre;overflow-x:auto;line-height:normal;font-family:Menlo,'DejaVu Sans Mono',consolas,'Courier New',monospace\"><span style=\"font-weight: bold\"> Total params: </span><span style=\"color: #00af00; text-decoration-color: #00af00\">886,145</span> (3.38 MB)\n",
       "</pre>\n"
      ],
      "text/plain": [
       "\u001b[1m Total params: \u001b[0m\u001b[38;5;34m886,145\u001b[0m (3.38 MB)\n"
      ]
     },
     "metadata": {},
     "output_type": "display_data"
    },
    {
     "data": {
      "text/html": [
       "<pre style=\"white-space:pre;overflow-x:auto;line-height:normal;font-family:Menlo,'DejaVu Sans Mono',consolas,'Courier New',monospace\"><span style=\"font-weight: bold\"> Trainable params: </span><span style=\"color: #00af00; text-decoration-color: #00af00\">886,145</span> (3.38 MB)\n",
       "</pre>\n"
      ],
      "text/plain": [
       "\u001b[1m Trainable params: \u001b[0m\u001b[38;5;34m886,145\u001b[0m (3.38 MB)\n"
      ]
     },
     "metadata": {},
     "output_type": "display_data"
    },
    {
     "data": {
      "text/html": [
       "<pre style=\"white-space:pre;overflow-x:auto;line-height:normal;font-family:Menlo,'DejaVu Sans Mono',consolas,'Courier New',monospace\"><span style=\"font-weight: bold\"> Non-trainable params: </span><span style=\"color: #00af00; text-decoration-color: #00af00\">0</span> (0.00 B)\n",
       "</pre>\n"
      ],
      "text/plain": [
       "\u001b[1m Non-trainable params: \u001b[0m\u001b[38;5;34m0\u001b[0m (0.00 B)\n"
      ]
     },
     "metadata": {},
     "output_type": "display_data"
    },
    {
     "name": "stdout",
     "output_type": "stream",
     "text": [
      "Epoch 1/200\n",
      "\u001b[1m4/4\u001b[0m \u001b[32m━━━━━━━━━━━━━━━━━━━━\u001b[0m\u001b[37m\u001b[0m \u001b[1m3s\u001b[0m 146ms/step - accuracy: 0.9312 - loss: 0.1949 - val_accuracy: 0.9188 - val_loss: 0.2424\n",
      "Epoch 2/200\n",
      "\u001b[1m4/4\u001b[0m \u001b[32m━━━━━━━━━━━━━━━━━━━━\u001b[0m\u001b[37m\u001b[0m \u001b[1m1s\u001b[0m 135ms/step - accuracy: 0.9309 - loss: 0.1952 - val_accuracy: 0.9182 - val_loss: 0.2424\n",
      "Epoch 3/200\n",
      "\u001b[1m4/4\u001b[0m \u001b[32m━━━━━━━━━━━━━━━━━━━━\u001b[0m\u001b[37m\u001b[0m \u001b[1m1s\u001b[0m 160ms/step - accuracy: 0.9353 - loss: 0.1867 - val_accuracy: 0.9188 - val_loss: 0.2431\n",
      "Epoch 4/200\n",
      "\u001b[1m4/4\u001b[0m \u001b[32m━━━━━━━━━━━━━━━━━━━━\u001b[0m\u001b[37m\u001b[0m \u001b[1m1s\u001b[0m 161ms/step - accuracy: 0.9341 - loss: 0.1899 - val_accuracy: 0.9190 - val_loss: 0.2438\n",
      "Epoch 5/200\n",
      "\u001b[1m4/4\u001b[0m \u001b[32m━━━━━━━━━━━━━━━━━━━━\u001b[0m\u001b[37m\u001b[0m \u001b[1m1s\u001b[0m 187ms/step - accuracy: 0.9365 - loss: 0.1831 - val_accuracy: 0.9184 - val_loss: 0.2459\n",
      "Epoch 6/200\n",
      "\u001b[1m4/4\u001b[0m \u001b[32m━━━━━━━━━━━━━━━━━━━━\u001b[0m\u001b[37m\u001b[0m \u001b[1m1s\u001b[0m 149ms/step - accuracy: 0.9339 - loss: 0.1838 - val_accuracy: 0.9190 - val_loss: 0.2439\n",
      "Epoch 7/200\n",
      "\u001b[1m4/4\u001b[0m \u001b[32m━━━━━━━━━━━━━━━━━━━━\u001b[0m\u001b[37m\u001b[0m \u001b[1m1s\u001b[0m 170ms/step - accuracy: 0.9356 - loss: 0.1819 - val_accuracy: 0.9178 - val_loss: 0.2453\n"
     ]
    }
   ],
   "source": [
    "stop_early = tf.keras.callbacks.EarlyStopping(monitor='val_loss', patience=5, baseline=0.92)\n",
    "\n",
    "best_model.build(input_shape = (None,84))\n",
    "best_model.summary()\n",
    "history = best_model.fit(Xtrain, ytrain, epochs=200, batch_size = 4096,\n",
    "                               validation_data=(Xdev, ydev),callbacks=[stop_early])"
   ]
  },
  {
   "cell_type": "code",
   "execution_count": 12,
   "metadata": {},
   "outputs": [
    {
     "name": "stdout",
     "output_type": "stream",
     "text": [
      "dict_keys(['accuracy', 'loss', 'val_accuracy', 'val_loss'])\n",
      "7\n"
     ]
    },
    {
     "data": {
      "image/png": "[encoded data removed]",
      "text/plain": [
       "<Figure size 1000x600 with 1 Axes>"
      ]
     },
     "metadata": {},
     "output_type": "display_data"
    }
   ],
   "source": [
    "print(history.history.keys())\n",
    "print(len(history.history['accuracy']))\n",
    "\n",
    "fig = plt.figure(figsize=(5, 3), dpi=200)\n",
    "plt.plot(history.history['accuracy'][:])\n",
    "plt.plot(history.history['val_accuracy'][:])\n",
    "plt.title('Model: Accuracy')\n",
    "plt.ylabel('Accuracy')\n",
    "plt.xlabel('Epoch')\n",
    "plt.ticklabel_format(useOffset=False)\n",
    "plt.legend(['Train', 'Dev'], loc='upper left')\n",
    "\n",
    "plt.savefig('Figs/casey_accuracy_plot.png')\n",
    "plt.show()\n"
   ]
  },
  {
   "cell_type": "markdown",
   "metadata": {},
   "source": [
    "---\n",
    "\n",
    "Evaluate the model on the test set\n",
    "\n"
   ]
  },
  {
   "cell_type": "code",
   "execution_count": 13,
   "metadata": {},
   "outputs": [
    {
     "name": "stdout",
     "output_type": "stream",
     "text": [
      "\u001b[1m2/2\u001b[0m \u001b[32m━━━━━━━━━━━━━━━━━━━━\u001b[0m\u001b[37m\u001b[0m \u001b[1m0s\u001b[0m 37ms/step - accuracy: 0.9196 - loss: 0.2415\n",
      "Accuracy:  0.9200164079666138\n"
     ]
    }
   ],
   "source": [
    "loss, accuracy = best_model.evaluate(Xtest, ytest, batch_size=4096)\n",
    "print(\"Accuracy: \", accuracy)"
   ]
  },
  {
   "cell_type": "markdown",
   "metadata": {},
   "source": [
    "---\n",
    "\n",
    "Predicting the first 10 observations\n"
   ]
  },
  {
   "cell_type": "code",
   "execution_count": 14,
   "metadata": {},
   "outputs": [
    {
     "name": "stdout",
     "output_type": "stream",
     "text": [
      "\u001b[1m1/1\u001b[0m \u001b[32m━━━━━━━━━━━━━━━━━━━━\u001b[0m\u001b[37m\u001b[0m \u001b[1m0s\u001b[0m 81ms/step\n",
      "Accuracy: 0.9200164079666138%\n",
      "   actual  predictions\n",
      "0       0            0\n",
      "1       0            0\n",
      "2       0            0\n",
      "3       0            0\n",
      "4       0            0\n",
      "5       1            1\n",
      "6       1            0\n",
      "7       1            1\n",
      "8       0            0\n",
      "9       0            0\n"
     ]
    }
   ],
   "source": [
    "\n",
    "predictions = best_model.predict(Xtest[:10])\n",
    "actual = np.asarray(ytest[:10].squeeze())\n",
    "predictions = predictions.squeeze()\n",
    "binary_pred = (predictions >= 0.5).astype(int)\n",
    "\n",
    "df = pd.DataFrame({\n",
    "    \"actual\": actual,\n",
    "    \"predictions\":binary_pred\n",
    "})\n",
    "\n",
    "\n",
    "print(f\"Accuracy: {accuracy}%\")\n",
    "print(df)\n"
   ]
  }
 ],
 "metadata": {
  "kernelspec": {
   "display_name": "Python 3",
   "language": "python",
   "name": "python3"
  },
  "language_info": {
   "codemirror_mode": {
    "name": "ipython",
    "version": 3
   },
   "file_extension": ".py",
   "mimetype": "text/x-python",
   "name": "python",
   "nbconvert_exporter": "python",
   "pygments_lexer": "ipython3",
   "version": "3.9.13"
  }
 },
 "nbformat": 4,
 "nbformat_minor": 2
}
